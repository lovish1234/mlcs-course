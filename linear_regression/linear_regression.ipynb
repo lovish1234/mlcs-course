import graphlab

sales = graphlab.SFrame('home_data.gl/')

sales[sales['zipcode']=='98039']['price'].mean()

float(len(sales[(sales['sqft_living']>=2000) & (sales['sqft_living']<=4000)]))/len(sales)

my_features = ['bedrooms', 'bathrooms', 'sqft_living', 'sqft_lot', 'floors', 'zipcode']
advanced_features = [
'bedrooms', 'bathrooms', 'sqft_living', 'sqft_lot', 'floors', 'zipcode',
'condition', # condition of house				
'grade', # measure of quality of construction				
'waterfront', # waterfront property				
'view', # type of view				
'sqft_above', # square feet above ground				
'sqft_basement', # square feet in basement				
'yr_built', # the year built				
'yr_renovated', # the year renovated				
'lat', 'long', # the lat-long of the parcel				
'sqft_living15', # average sq.ft. of 15 nearest neighbors 				
'sqft_lot15', # average lot size of 15 nearest neighbors 
]

sqft_model_f = graphlab.linear_regression.create(train_data, target='price', features=my_features, validation_set=None)
rmse_f= sqft_model_f.evaluate(test_data)['rmse']
sqft_model_af = graphlab.linear_regression.create(train_data, target='price', features=advanced_features, validation_set=None)
rmse_af = sqft_model_af.evaluate(test_data)['rmse']
print (rmse_af-rmse_f)
